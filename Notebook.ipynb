{
 "cells": [
  {
   "cell_type": "markdown",
   "metadata": {},
   "source": [
    "# Projet numérique Python - CMI M1\n",
    "\n",
    "### Groupe : B\n",
    "### Sujet : Spectrométrie de masse\n",
    "\n",
    "Membres :\n",
    "\n",
    "- Sarah DELORD\n",
    "- Axelle MOREAU\n",
    "- Thomas POIX\n",
    "\n",
    "---"
   ]
  },
  {
   "attachments": {},
   "cell_type": "markdown",
   "metadata": {},
   "source": [
    "### Quelques informations supplémentaires :\n",
    "Si \"cOH\"=1 alors \"OH terminal\"=0\n",
    "\n",
    "Si Chr3 ou Chr4 = 1  alors il ne peut y avoir de \"side chain\" donc mal, mala, suc, suca, gluchro ou kgl = 0\n",
    "\n",
    "Seulement 1 chromophore possible parmis tous\n",
    "Seulement 1 side-chain possible parmis tous\n",
    "\n",
    "\n",
    "\n",
    "Optionnel :\n",
    "Le tableau \"Structure\" donne la formule brute de la molécule,  ce serait pratique en début d'algorithme de demander si le nombre d'un élément en particulier est connu de sorte à éliminer pas mal de possibilités. Dans notre cas présent, de l'azote 15 avait été ajouté ce qui nous permettait de savoir qu'il y avait 14 atomes d'azote. "
   ]
  },
  {
   "cell_type": "code",
   "execution_count": 1,
   "metadata": {},
   "outputs": [],
   "source": [
    "import pandas as pd"
   ]
  },
  {
   "cell_type": "code",
   "execution_count": 8,
   "metadata": {},
   "outputs": [
    {
     "name": "stdout",
     "output_type": "stream",
     "text": [
      "    Molécule                ID      m/z 2+  Masse théo  NbrC  NbrH  NbrO  \\\n",
      "0          1               Ser         NaN   87.032029   3.0   5.0   2.0   \n",
      "1          2               Val         NaN   99.068414   5.0   9.0   1.0   \n",
      "2          3               Lys         NaN  128.094963   6.0  12.0   1.0   \n",
      "3          4               Ala         NaN   71.037114   3.0   5.0   1.0   \n",
      "4          5               Gly         NaN   57.021464   2.0   3.0   1.0   \n",
      "5          6               Glu         NaN  129.042594   5.0   7.0   3.0   \n",
      "6          7               Thr         NaN  101.047679   4.0   7.0   2.0   \n",
      "7          8               Asp         NaN  115.026944   4.0   5.0   3.0   \n",
      "8          9               Arg         NaN  156.101111   6.0  12.0   1.0   \n",
      "9         10               Gln         NaN  128.058578   5.0   8.0   2.0   \n",
      "10        11               Orn         NaN  114.079313   5.0  10.0   1.0   \n",
      "11        12             e-Lys         NaN  128.094963   6.0  12.0   1.0   \n",
      "12        13           AOH-Orn         NaN  172.084793   7.0  12.0   3.0   \n",
      "13        14           FOH-Orn         NaN  158.069143   6.0  10.0   3.0   \n",
      "14        15           cOH-Orn         NaN  129.066403   5.0   9.0   2.0   \n",
      "15        16             OHHis         NaN  153.053827   6.0   7.0   2.0   \n",
      "16        17             OHAsp         NaN  131.021859   4.0   5.0   4.0   \n",
      "17        18               Dab         NaN  100.063663   4.0   8.0   1.0   \n",
      "18        19               Asn         NaN  114.042928   4.0   6.0   2.0   \n",
      "19        20  Cyclisation -H2O         NaN   18.010565   NaN   2.0   1.0   \n",
      "20        21       OH Terminal         NaN   17.002740   NaN   1.0   1.0   \n",
      "21        31           Chr1et2  129.547846  257.080042  13.0  11.0   3.0   \n",
      "22        32              Chr3  143.041391  284.067132  14.0  10.0   4.0   \n",
      "23        33              Chr4  171.054499  340.093347  17.0  14.0   5.0   \n",
      "24        34              Chr5  130.555671  259.095692  13.0  13.0   3.0   \n",
      "25        35              Chr6  170.534079  339.052508  13.0  13.0   6.0   \n",
      "26        36              Chr7  123.566039  245.116427  13.0  15.0   2.0   \n",
      "27        37               Suc   51.519760  101.023870   4.0   5.0   3.0   \n",
      "28        38              Suca   51.027752  100.039854   4.0   6.0   2.0   \n",
      "29        39               Mal   59.517218  117.018785   4.0   5.0   4.0   \n",
      "30        40              Mala   59.025210  116.034769   4.0   6.0   3.0   \n",
      "31        41        Glu(-chro)   66.033034  130.050419   5.0   8.0   3.0   \n",
      "32        42               Kgl   65.517218  129.018785   5.0   5.0   4.0   \n",
      "33        44                Fe   28.975020   55.934390   NaN   NaN   NaN   \n",
      "34        46                Al   14.498596   26.981541   NaN   NaN   NaN   \n",
      "35        47           Fe - 3H   27.463283   52.910915   NaN   3.0   NaN   \n",
      "36        48           Al - 3H   12.986858   23.958066   NaN   3.0   NaN   \n",
      "\n",
      "    NbrN  NbrSe  NbrP  NbrS  NbrNa  NbrK  NbrFe  NbrAl  e-  \n",
      "0    1.0    NaN   NaN   NaN    NaN   NaN    NaN    NaN NaN  \n",
      "1    1.0    NaN   NaN   NaN    NaN   NaN    NaN    NaN NaN  \n",
      "2    2.0    NaN   NaN   NaN    NaN   NaN    NaN    NaN NaN  \n",
      "3    1.0    NaN   NaN   NaN    NaN   NaN    NaN    NaN NaN  \n",
      "4    1.0    NaN   NaN   NaN    NaN   NaN    NaN    NaN NaN  \n",
      "5    1.0    NaN   NaN   NaN    NaN   NaN    NaN    NaN NaN  \n",
      "6    1.0    NaN   NaN   NaN    NaN   NaN    NaN    NaN NaN  \n",
      "7    1.0    NaN   NaN   NaN    NaN   NaN    NaN    NaN NaN  \n",
      "8    4.0    NaN   NaN   NaN    NaN   NaN    NaN    NaN NaN  \n",
      "9    2.0    NaN   NaN   NaN    NaN   NaN    NaN    NaN NaN  \n",
      "10   2.0    NaN   NaN   NaN    NaN   NaN    NaN    NaN NaN  \n",
      "11   2.0    NaN   NaN   NaN    NaN   NaN    NaN    NaN NaN  \n",
      "12   2.0    NaN   NaN   NaN    NaN   NaN    NaN    NaN NaN  \n",
      "13   2.0    NaN   NaN   NaN    NaN   NaN    NaN    NaN NaN  \n",
      "14   2.0    NaN   NaN   NaN    NaN   NaN    NaN    NaN NaN  \n",
      "15   3.0    NaN   NaN   NaN    NaN   NaN    NaN    NaN NaN  \n",
      "16   1.0    NaN   NaN   NaN    NaN   NaN    NaN    NaN NaN  \n",
      "17   2.0    NaN   NaN   NaN    NaN   NaN    NaN    NaN NaN  \n",
      "18   2.0    NaN   NaN   NaN    NaN   NaN    NaN    NaN NaN  \n",
      "19   NaN    NaN   NaN   NaN    NaN   NaN    NaN    NaN NaN  \n",
      "20   NaN    NaN   NaN   NaN    NaN   NaN    NaN    NaN NaN  \n",
      "21   3.0    NaN   NaN   NaN    NaN   NaN    NaN    NaN NaN  \n",
      "22   3.0    NaN   NaN   NaN    NaN   NaN    NaN    NaN NaN  \n",
      "23   3.0    NaN   NaN   NaN    NaN   NaN    NaN    NaN NaN  \n",
      "24   3.0    NaN   NaN   NaN    NaN   NaN    NaN    NaN NaN  \n",
      "25   3.0    NaN   NaN   1.0    NaN   NaN    NaN    NaN NaN  \n",
      "26   3.0    NaN   NaN   NaN    NaN   NaN    NaN    NaN NaN  \n",
      "27   NaN    NaN   NaN   NaN    NaN   NaN    NaN    NaN NaN  \n",
      "28   1.0    NaN   NaN   NaN    NaN   NaN    NaN    NaN NaN  \n",
      "29   NaN    NaN   NaN   NaN    NaN   NaN    NaN    NaN NaN  \n",
      "30   1.0    NaN   NaN   NaN    NaN   NaN    NaN    NaN NaN  \n",
      "31   1.0    NaN   NaN   NaN    NaN   NaN    NaN    NaN NaN  \n",
      "32   NaN    NaN   NaN   NaN    NaN   NaN    NaN    NaN NaN  \n",
      "33   NaN    NaN   NaN   NaN    NaN   NaN    1.0    NaN NaN  \n",
      "34   NaN    NaN   NaN   NaN    NaN   NaN    NaN    1.0 NaN  \n",
      "35   NaN    NaN   NaN   NaN    NaN   NaN    1.0    NaN NaN  \n",
      "36   NaN    NaN   NaN   NaN    NaN   NaN    NaN    1.0 NaN  \n"
     ]
    }
   ],
   "source": [
    "molecules = pd.read_excel('Pyoverdine Germain Final.xlsx', header=2, sheet_name=\"Molécules\")\n",
    "print(molecules)"
   ]
  },
  {
   "cell_type": "code",
   "execution_count": 15,
   "metadata": {},
   "outputs": [
    {
     "name": "stdout",
     "output_type": "stream",
     "text": [
      "   Charge   Z=1  Charge     Z=2  Molécule neutre  \\\n",
      "0   1214.427926      607.717601      1213.420650   \n",
      "2   1185.475077      593.241177      1184.467801   \n",
      "4   1213.469992      607.238634      1212.462716   \n",
      "\n",
      "   Masse expérimentale       (Z=2)  Ser  Val  Lys  Ala  Gly  Glu  ...  \\\n",
      "0                        607.71810  2.0  NaN  2.0  NaN  1.0  NaN  ...   \n",
      "2                        593.24152  2.0  NaN  2.0  NaN  1.0  NaN  ...   \n",
      "4                        607.23860  2.0  NaN  2.0  NaN  1.0  NaN  ...   \n",
      "\n",
      "   Fe(III) - 3 H+  Al(III) - 3 H+  Unnamed: 39     C     H     N     O    S  \\\n",
      "0             1.0             NaN          NaN  49.0  69.0  14.0  19.0  0.0   \n",
      "2             NaN             1.0          NaN  49.0  69.0  14.0  19.0  0.0   \n",
      "4             NaN             1.0          NaN  50.0  69.0  14.0  20.0  0.0   \n",
      "\n",
      "    Fe   Al  \n",
      "0  1.0  0.0  \n",
      "2  0.0  1.0  \n",
      "4  0.0  1.0  \n",
      "\n",
      "[3 rows x 47 columns]\n"
     ]
    }
   ],
   "source": [
    "charges = pd.read_excel('Pyoverdine Germain Final.xlsx', header=3, sheet_name=\"Charges\")\n",
    "charges = charges.drop([1,3]) # On enlève les lignes vides du tableau\n",
    "print(charges)"
   ]
  }
 ],
 "metadata": {
  "kernelspec": {
   "display_name": "Python 3",
   "language": "python",
   "name": "python3"
  },
  "language_info": {
   "codemirror_mode": {
    "name": "ipython",
    "version": 3
   },
   "file_extension": ".py",
   "mimetype": "text/x-python",
   "name": "python",
   "nbconvert_exporter": "python",
   "pygments_lexer": "ipython3",
   "version": "3.7.6"
  }
 },
 "nbformat": 4,
 "nbformat_minor": 4
}
